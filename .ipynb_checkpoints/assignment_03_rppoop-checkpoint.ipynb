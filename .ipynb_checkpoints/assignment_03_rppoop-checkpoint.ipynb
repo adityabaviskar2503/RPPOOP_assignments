{
 "cells": [
  {
   "cell_type": "code",
   "execution_count": 15,
   "id": "fb8b6451",
   "metadata": {
    "scrolled": false
   },
   "outputs": [
    {
     "name": "stdout",
     "output_type": "stream",
     "text": [
      "All sides of a square are equal\n",
      "Area is 25\n",
      "\n",
      "\n",
      "All points in a circle are equidistant from the centre\n",
      "Area is 12.56\n",
      "\n",
      "\n",
      "4i+3j+2k\n",
      "9i+5j+7k\n",
      "13i+8j+9k\n",
      "<__main__.vectors object at 0x7f24d0419ea0>\n"
     ]
    }
   ],
   "source": [
    "#polymorphism and its types\n",
    "\n",
    "#method overriding\n",
    "class shapes:\n",
    "    def __init__(self):\n",
    "        print(\"This is a geometric shape\")\n",
    "\n",
    "    def area(self, x, y):\n",
    "        return x*y\n",
    "\n",
    "class square(shapes):\n",
    "    def __init__(self):\n",
    "        print(\"All sides of a square are equal\")\n",
    "        \n",
    "    def area(self, s):\n",
    "        return s*s\n",
    "\n",
    "class circle(shapes):\n",
    "    def __init__(self):\n",
    "        print(\"All points in a circle are equidistant from the centre\")\n",
    "        \n",
    "    def area(self, r):\n",
    "        return 3.14*r*r\n",
    "\n",
    "x = square()\n",
    "print(\"Area is\",x.area(5))\n",
    "print(\"\\n\")\n",
    "y = circle()\n",
    "print(\"Area is\",y.area(2))\n",
    "print(\"\\n\")\n",
    "\n",
    "\n",
    "\n",
    "#operator overloading\n",
    "class vectors:\n",
    "    def __init__(self, i, j, k):\n",
    "        self.i = i\n",
    "        self.j = j\n",
    "        self.k = k\n",
    "        print(f\"{self.i}i+{self.j}j+{self.k}k\")\n",
    "\n",
    "    def __add__(self, x):\n",
    "        return vectors(self.i+x.i, self.j+x.j, self.k+x.k)\n",
    "\n",
    "vec_1 = vectors(4, 3, 2)\n",
    "vec_2 = vectors(9, 5, 7)\n",
    "print(vec_1.__add__(vec_2))"
   ]
  },
  {
   "cell_type": "code",
   "execution_count": null,
   "id": "20ced0c5",
   "metadata": {},
   "outputs": [],
   "source": []
  }
 ],
 "metadata": {
  "kernelspec": {
   "display_name": "Python 3 (ipykernel)",
   "language": "python",
   "name": "python3"
  },
  "language_info": {
   "codemirror_mode": {
    "name": "ipython",
    "version": 3
   },
   "file_extension": ".py",
   "mimetype": "text/x-python",
   "name": "python",
   "nbconvert_exporter": "python",
   "pygments_lexer": "ipython3",
   "version": "3.10.6"
  }
 },
 "nbformat": 4,
 "nbformat_minor": 5
}
