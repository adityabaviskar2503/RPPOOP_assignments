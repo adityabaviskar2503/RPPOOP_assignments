{
 "cells": [
  {
   "cell_type": "code",
   "execution_count": 1,
   "id": "c2192a34",
   "metadata": {
    "scrolled": true
   },
   "outputs": [
    {
     "name": "stdout",
     "output_type": "stream",
     "text": [
      "\n",
      "******* Bank Account Menu *******\n",
      "\t1. Deposit money\n",
      "\t2. Withdraw money\n",
      "\t3. Display account information\n",
      "\t4. Exit\n",
      "Enter your choice: 3\n",
      "\n",
      "\n",
      "Name: Aditya_Baviskar\n",
      "Account number: 123456789\n",
      "Account type: Savings\n",
      "Account balance: 5000\n",
      "\n",
      "******* Bank Account Menu *******\n",
      "\t1. Deposit money\n",
      "\t2. Withdraw money\n",
      "\t3. Display account information\n",
      "\t4. Exit\n",
      "Enter your choice: 2\n",
      "\n",
      "\n",
      "Enter amount to be withdrawn: 6000\n",
      "Low balance.\n",
      "\n",
      "******* Bank Account Menu *******\n",
      "\t1. Deposit money\n",
      "\t2. Withdraw money\n",
      "\t3. Display account information\n",
      "\t4. Exit\n",
      "Enter your choice: 1\n",
      "\n",
      "\n",
      "Enter amount to be deposited: 5000\n",
      "Available Balance: 10000.0.\n",
      "\n",
      "******* Bank Account Menu *******\n",
      "\t1. Deposit money\n",
      "\t2. Withdraw money\n",
      "\t3. Display account information\n",
      "\t4. Exit\n",
      "Enter your choice: 4\n"
     ]
    }
   ],
   "source": [
    "#defining the parent class\n",
    "\n",
    "class bankAccount:\n",
    "    def __init__(self, name, acc_number, acc_type, acc_balance):\n",
    "        self.name = name\n",
    "        self.acc_number = acc_number\n",
    "        self.acc_type = acc_type\n",
    "        self.acc_balance = acc_balance\n",
    "        \n",
    "    def deposit(self, amt):\n",
    "        self.acc_balance += amt\n",
    "        print(f\"Available Balance: {self.acc_balance}.\")\n",
    "        \n",
    "    def withdraw(self, amt):\n",
    "        if amt>self.acc_balance:\n",
    "            print(f\"Low balance.\")\n",
    "        else:\n",
    "            self.acc_balance -= amt\n",
    "            print(f\"Available Balance: {self.acc_balance}.\")\n",
    "            \n",
    "    def display(self):\n",
    "        print(f\"Name: {self.name}\")\n",
    "        print(f\"Account number: {self.acc_number}\")\n",
    "        print(f\"Account type: {self.acc_type}\")\n",
    "        print(f\"Account balance: {self.acc_balance}\")\n",
    "        \n",
    "    \n",
    "    \n",
    "def main():\n",
    "# create a new bank account with initial values\n",
    "    account = bankAccount(\"Aditya_Baviskar\", 123456789, \"Savings\", 5000)\n",
    "\n",
    "    while True:\n",
    "        print(\"\\n******* Bank Account Menu *******\")\n",
    "        print(\"\\t1. Deposit money\")\n",
    "        print(\"\\t2. Withdraw money\")\n",
    "        print(\"\\t3. Display account information\")\n",
    "        print(\"\\t4. Exit\")\n",
    "\n",
    "        choice = input(\"Enter your choice: \")\n",
    "\n",
    "        if choice == \"1\":\n",
    "            print(\"\\n\")\n",
    "            amount = float(input(\"Enter amount to be deposited: \"))\n",
    "            account.deposit(amount)\n",
    "        elif choice == \"2\":\n",
    "            print(\"\\n\")\n",
    "            amount = float(input(\"Enter amount to be withdrawn: \"))\n",
    "            account.withdraw(amount)\n",
    "        elif choice == \"3\":\n",
    "            print(\"\\n\")\n",
    "            account.display()\n",
    "        elif choice == \"4\":\n",
    "            break\n",
    "        else:\n",
    "            print(\"Invalid choice. Please try again.\")\n",
    "\n",
    "if __name__ == \"__main__\":\n",
    "    main()\n"
   ]
  },
  {
   "cell_type": "code",
   "execution_count": null,
   "id": "8797a45d",
   "metadata": {},
   "outputs": [],
   "source": []
  },
  {
   "cell_type": "code",
   "execution_count": null,
   "id": "52d3f14f",
   "metadata": {},
   "outputs": [],
   "source": []
  },
  {
   "cell_type": "code",
   "execution_count": null,
   "id": "139c35b8",
   "metadata": {},
   "outputs": [],
   "source": []
  },
  {
   "cell_type": "code",
   "execution_count": null,
   "id": "f5f9376b",
   "metadata": {},
   "outputs": [],
   "source": []
  },
  {
   "cell_type": "code",
   "execution_count": null,
   "id": "0deae2db",
   "metadata": {},
   "outputs": [],
   "source": []
  },
  {
   "cell_type": "code",
   "execution_count": null,
   "id": "3c41d78c",
   "metadata": {},
   "outputs": [],
   "source": []
  },
  {
   "cell_type": "code",
   "execution_count": null,
   "id": "d5e14c0d",
   "metadata": {},
   "outputs": [],
   "source": []
  },
  {
   "cell_type": "code",
   "execution_count": null,
   "id": "1bb42d4f",
   "metadata": {},
   "outputs": [],
   "source": []
  }
 ],
 "metadata": {
  "kernelspec": {
   "display_name": "Python 3 (ipykernel)",
   "language": "python",
   "name": "python3"
  },
  "language_info": {
   "codemirror_mode": {
    "name": "ipython",
    "version": 3
   },
   "file_extension": ".py",
   "mimetype": "text/x-python",
   "name": "python",
   "nbconvert_exporter": "python",
   "pygments_lexer": "ipython3",
   "version": "3.10.6"
  }
 },
 "nbformat": 4,
 "nbformat_minor": 5
}
