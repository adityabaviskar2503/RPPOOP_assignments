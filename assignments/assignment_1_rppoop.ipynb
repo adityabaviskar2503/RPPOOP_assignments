{
 "cells": [
  {
   "cell_type": "code",
   "execution_count": 2,
   "id": "9e1b4e37",
   "metadata": {},
   "outputs": [
    {
     "name": "stdout",
     "output_type": "stream",
     "text": [
      "Circle Area: 78.53981633974483\n",
      "Circle Perimeter: 31.41592653589793\n",
      "\n",
      "\n",
      "Rectangle Area: 24\n",
      "Rectangle Perimeter: 20\n",
      "\n",
      "\n",
      "Square Area: 25\n",
      "Square Perimeter: 20\n"
     ]
    }
   ],
   "source": [
    "import math\n",
    "\n",
    "class Shape:\n",
    "    def area(self):\n",
    "        pass\n",
    "    \n",
    "    def perimeter(self):\n",
    "        pass\n",
    "\n",
    "class Circle(Shape):\n",
    "    def __init__(self, radius):\n",
    "        self.radius = radius\n",
    "    \n",
    "    def area(self):\n",
    "        return math.pi * self.radius**2\n",
    "    \n",
    "    def perimeter(self):\n",
    "        return 2 * math.pi * self.radius\n",
    "\n",
    "class Rectangle(Shape):\n",
    "    def __init__(self, length, width):\n",
    "        self.length = length\n",
    "        self.width = width\n",
    "    \n",
    "    def area(self):\n",
    "        return self.length * self.width\n",
    "    \n",
    "    def perimeter(self):\n",
    "        return 2 * (self.length + self.width)\n",
    "\n",
    "class Square(Rectangle):\n",
    "    def __init__(self, side):\n",
    "        super().__init__(side, side)\n",
    "    \n",
    "    def area(self):\n",
    "        return self.length**2\n",
    "    \n",
    "    def perimeter(self):\n",
    "        return 4 * self.length\n",
    "\n",
    "# Usage\n",
    "circle = Circle(5)\n",
    "print(\"Circle Area:\", circle.area())\n",
    "print(\"Circle Perimeter:\", circle.perimeter())\n",
    "print(\"\\n\")\n",
    "\n",
    "rectangle = Rectangle(4, 6)\n",
    "print(\"Rectangle Area:\", rectangle.area())\n",
    "print(\"Rectangle Perimeter:\", rectangle.perimeter())\n",
    "print(\"\\n\")\n",
    "\n",
    "square = Square(5)\n",
    "print(\"Square Area:\", square.area())\n",
    "print(\"Square Perimeter:\", square.perimeter())\n"
   ]
  },
  {
   "cell_type": "code",
   "execution_count": null,
   "id": "d67cd88b",
   "metadata": {},
   "outputs": [],
   "source": []
  }
 ],
 "metadata": {
  "kernelspec": {
   "display_name": "Python 3 (ipykernel)",
   "language": "python",
   "name": "python3"
  },
  "language_info": {
   "codemirror_mode": {
    "name": "ipython",
    "version": 3
   },
   "file_extension": ".py",
   "mimetype": "text/x-python",
   "name": "python",
   "nbconvert_exporter": "python",
   "pygments_lexer": "ipython3",
   "version": "3.10.6"
  }
 },
 "nbformat": 4,
 "nbformat_minor": 5
}
